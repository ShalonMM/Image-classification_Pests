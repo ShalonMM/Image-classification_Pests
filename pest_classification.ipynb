{
  "cells": [
    {
      "cell_type": "code",
      "execution_count": null,
      "metadata": {
        "colab": {
          "background_save": true,
          "base_uri": "https://localhost:8080/"
        },
        "id": "uTmY_wnJRh_d",
        "outputId": "7bfc41f2-7625-4d9c-cbe8-11cb98ae8306"
      },
      "outputs": [
        {
          "name": "stdout",
          "output_type": "stream",
          "text": [
            "Downloading crop-pest-and-disease-detection, 1337579661 bytes compressed\n",
            "[==================================================] 1337579661 bytes downloaded\n",
            "Downloaded and uncompressed: crop-pest-and-disease-detection\n",
            "Data source import complete.\n"
          ]
        }
      ],
      "source": [
        "\n",
        "\n",
        "\n",
        "import os\n",
        "import sys\n",
        "from tempfile import NamedTemporaryFile\n",
        "from urllib.request import urlopen\n",
        "from urllib.parse import unquote, urlparse\n",
        "from urllib.error import HTTPError\n",
        "from zipfile import ZipFile\n",
        "import tarfile\n",
        "import shutil\n",
        "\n",
        "CHUNK_SIZE = 40960\n",
        "DATA_SOURCE_MAPPING = 'crop-pest-and-disease-detection:https%3A%2F%2Fstorage.googleapis.com%2Fkaggle-data-sets%2F4280832%2F7368427%2Fbundle%2Farchive.zip%3FX-Goog-Algorithm%3DGOOG4-RSA-SHA256%26X-Goog-Credential%3Dgcp-kaggle-com%2540kaggle-161607.iam.gserviceaccount.com%252F20240210%252Fauto%252Fstorage%252Fgoog4_request%26X-Goog-Date%3D20240210T090759Z%26X-Goog-Expires%3D259200%26X-Goog-SignedHeaders%3Dhost%26X-Goog-Signature%3D2fd709f1ae581f83066e5de8ea6969a4a9b897e1800231a3fa5af652276d1b55f831202374fb1cc851920d99f8689c5d3651824e1925ef6cf644fb4434bfbfab38b3be45190d088949e8452dfbe14cb5a1a55b4edac070fce33176a61dac5b694d17e8148cb0598d1661a83ff714695e078b0c9b6e7356db0c8340363ab1ae4628fd192dcb8b25f1082de8a0334eeb94d8ae95499b6b45f88fabd0e0b76deaf95f175453866db43b9e24533cced470b598d8482b5dfc5c596be04a30a48e3f690ca3c33aa20e4738dd867bbf2d1c039b0751d20062b0f0ba2c9b21c64f3d60feeff3decf7fc7dd28fc39c0f3064bbc5bb96cf1320cf56ed9384d5b0a9a7fcf8d'\n",
        "\n",
        "KAGGLE_INPUT_PATH='/kaggle/input'\n",
        "KAGGLE_WORKING_PATH='/kaggle/working'\n",
        "KAGGLE_SYMLINK='kaggle'\n",
        "\n",
        "!umount /kaggle/input/ 2> /dev/null\n",
        "shutil.rmtree('/kaggle/input', ignore_errors=True)\n",
        "os.makedirs(KAGGLE_INPUT_PATH, 0o777, exist_ok=True)\n",
        "os.makedirs(KAGGLE_WORKING_PATH, 0o777, exist_ok=True)\n",
        "\n",
        "try:\n",
        "  os.symlink(KAGGLE_INPUT_PATH, os.path.join(\"..\", 'input'), target_is_directory=True)\n",
        "except FileExistsError:\n",
        "  pass\n",
        "try:\n",
        "  os.symlink(KAGGLE_WORKING_PATH, os.path.join(\"..\", 'working'), target_is_directory=True)\n",
        "except FileExistsError:\n",
        "  pass\n",
        "\n",
        "for data_source_mapping in DATA_SOURCE_MAPPING.split(','):\n",
        "    directory, download_url_encoded = data_source_mapping.split(':')\n",
        "    download_url = unquote(download_url_encoded)\n",
        "    filename = urlparse(download_url).path\n",
        "    destination_path = os.path.join(KAGGLE_INPUT_PATH, directory)\n",
        "    try:\n",
        "        with urlopen(download_url) as fileres, NamedTemporaryFile() as tfile:\n",
        "            total_length = fileres.headers['content-length']\n",
        "            print(f'Downloading {directory}, {total_length} bytes compressed')\n",
        "            dl = 0\n",
        "            data = fileres.read(CHUNK_SIZE)\n",
        "            while len(data) > 0:\n",
        "                dl += len(data)\n",
        "                tfile.write(data)\n",
        "                done = int(50 * dl / int(total_length))\n",
        "                sys.stdout.write(f\"\\r[{'=' * done}{' ' * (50-done)}] {dl} bytes downloaded\")\n",
        "                sys.stdout.flush()\n",
        "                data = fileres.read(CHUNK_SIZE)\n",
        "            if filename.endswith('.zip'):\n",
        "              with ZipFile(tfile) as zfile:\n",
        "                zfile.extractall(destination_path)\n",
        "            else:\n",
        "              with tarfile.open(tfile.name) as tarfile:\n",
        "                tarfile.extractall(destination_path)\n",
        "            print(f'\\nDownloaded and uncompressed: {directory}')\n",
        "    except HTTPError as e:\n",
        "        print(f'Failed to load (likely expired) {download_url} to path {destination_path}')\n",
        "        continue\n",
        "    except OSError as e:\n",
        "        print(f'Failed to load {download_url} to path {destination_path}')\n",
        "        continue\n",
        "\n",
        "print('Data source import complete.')\n"
      ]
    },
    {
      "cell_type": "code",
      "execution_count": null,
      "metadata": {
        "colab": {
          "background_save": true
        },
        "id": "Hf4GI7x9V4kM"
      },
      "outputs": [],
      "source": [
        "import os\n",
        "import glob\n",
        "import numpy as np\n",
        "import pandas as pd\n",
        "import seaborn as sns\n",
        "import tensorflow as tf\n",
        "import matplotlib.pyplot as plt\n",
        "from sklearn.model_selection import train_test_split"
      ]
    },
    {
      "cell_type": "code",
      "execution_count": null,
      "metadata": {
        "colab": {
          "background_save": true
        },
        "id": "whXnsOM28oe4"
      },
      "outputs": [],
      "source": [
        "EPOCHS = 10\n",
        "IMAGE_SIZE = (128, 128)\n",
        "INPUT_SHAPE = (128, 128, 3)\n",
        "DATASET_DIR = \"/kaggle/input/crop-pest-and-disease-detection\"\n",
        "BATCH_SIZE = 64\n",
        "LEARNING_RATE = 0.001\n",
        "MAX_IMAGES_PER_CATEGORY = 5000\n",
        "CLASS_NAMES = ['Cashew', 'Cassava', 'Maize', 'Tomato']"
      ]
    },
    {
      "cell_type": "markdown",
      "metadata": {
        "id": "fLYHjkuWRh_k"
      },
      "source": [
        "### Helper Functions for Processing Data"
      ]
    },
    {
      "cell_type": "code",
      "execution_count": null,
      "metadata": {
        "colab": {
          "background_save": true
        },
        "id": "eurLANxsF6Po"
      },
      "outputs": [],
      "source": [
        "\"\"\"\n",
        "    Get the disease category from the file path\n",
        "\n",
        "    @param file_path - the path to the image file\n",
        "    @returns the category of the disease\n",
        "\"\"\"\n",
        "def get_disease_category_by_path(file_path):\n",
        "    return file_path.split(\"/\")[4]\n",
        "\n",
        "\"\"\"\n",
        "    Get the plant category from the file path\n",
        "\n",
        "    @param file_path - the path to the image file\n",
        "    @returns the category of the plant\n",
        "\"\"\"\n",
        "def get_plant_category_by_path(file_path):\n",
        "  disease_category = get_disease_category_by_path(file_path)\n",
        "  return disease_category.split(\" \")[0]"
      ]
    },
    {
      "cell_type": "code",
      "execution_count": null,
      "metadata": {
        "colab": {
          "background_save": true
        },
        "id": "pATv_U92coPP"
      },
      "outputs": [],
      "source": [
        "\"\"\"\n",
        "    Convert a dataset of images to tensors\n",
        "\n",
        "    @param images - the list of images to convert\n",
        "    @returns a list of images as tensors\n",
        "\"\"\"\n",
        "def process_images(images):\n",
        "  image_list = []\n",
        "\n",
        "  for filename in images:\n",
        "    img = tf.io.read_file(filename)\n",
        "    img = tf.io.decode_jpeg(img)\n",
        "    img = tf.image.resize(img, IMAGE_SIZE)\n",
        "    img = tf.image.convert_image_dtype(img, tf.float32)\n",
        "\n",
        "    image_list.append(img)\n",
        "\n",
        "  return image_list"
      ]
    },
    {
      "cell_type": "code",
      "execution_count": null,
      "metadata": {
        "colab": {
          "background_save": true
        },
        "id": "IuenAnjEGVX2"
      },
      "outputs": [],
      "source": [
        "\"\"\"\n",
        "    Remove invalid images from dataframe\n",
        "\n",
        "    @param df - dataframe containing image filenames\n",
        "    @returns a dataframe with only valid images in the filename col\n",
        "\"\"\"\n",
        "def clean_image_dataframe(df):\n",
        "  for image in df['filename']:\n",
        "    try:\n",
        "      img = tf.io.read_file(image)\n",
        "      img = tf.io.decode_jpeg(img)\n",
        "    except:\n",
        "      index = df[(df.filename == image)].index\n",
        "      df = df.drop(index)\n",
        "  return df"
      ]
    },
    {
      "cell_type": "code",
      "execution_count": null,
      "metadata": {
        "colab": {
          "background_save": true
        },
        "id": "si-n1BbvPLsp"
      },
      "outputs": [],
      "source": [
        "\"\"\"\n",
        "    Encode the target label\n",
        "\n",
        "    @param label - the target label to be encoded\n",
        "    @return a encoded label\n",
        "\"\"\"\n",
        "def encode_label(label):\n",
        "  if label == 'Cashew':\n",
        "    return 0\n",
        "  elif label == 'Cassava':\n",
        "    return 1\n",
        "  elif label == 'Maize':\n",
        "    return 2\n",
        "  elif label == 'Tomato':\n",
        "    return 3\n",
        "  else:\n",
        "    return -1"
      ]
    },
    {
      "cell_type": "markdown",
      "metadata": {
        "id": "fLmrL7-yRh_r"
      },
      "source": [
        "### Perform EDA (Exploratory Data Analysis)"
      ]
    },
    {
      "cell_type": "code",
      "execution_count": null,
      "metadata": {
        "colab": {
          "background_save": true
        },
        "id": "LKhckxfc-61Y"
      },
      "outputs": [],
      "source": [
        "filenames = []\n",
        "plant_category = []\n",
        "disease_category = []\n",
        "\n",
        "# sort the categories and filenames into lists\n",
        "for (root, dirs, files) in os.walk(DATASET_DIR):\n",
        "  for filename in files:\n",
        "    fn = str(root + \"/\" + filename)\n",
        "    filenames.append(fn)\n",
        "\n",
        "    pc = get_plant_category_by_path(fn)\n",
        "    plant_category.append(pc)\n",
        "\n",
        "    dc = get_disease_category_by_path(fn)\n",
        "    disease_category.append(dc)"
      ]
    },
    {
      "cell_type": "code",
      "execution_count": null,
      "metadata": {
        "colab": {
          "background_save": true
        },
        "id": "edaEA_RCD3kU",
        "outputId": "7ffab9ad-4af3-4ef3-cf5f-32ad6d651b7c"
      },
      "outputs": [
        {
          "name": "stdout",
          "output_type": "stream",
          "text": [
            "                                                filename plant category  \\\n",
            "2515   /kaggle/input/crop-pest-and-disease-detection/...         Tomato   \n",
            "3390   /kaggle/input/crop-pest-and-disease-detection/...        Cassava   \n",
            "18514  /kaggle/input/crop-pest-and-disease-detection/...          Maize   \n",
            "17669  /kaggle/input/crop-pest-and-disease-detection/...          Maize   \n",
            "12117  /kaggle/input/crop-pest-and-disease-detection/...         Cashew   \n",
            "11720  /kaggle/input/crop-pest-and-disease-detection/...         Cashew   \n",
            "14699  /kaggle/input/crop-pest-and-disease-detection/...        Cassava   \n",
            "18504  /kaggle/input/crop-pest-and-disease-detection/...          Maize   \n",
            "17557  /kaggle/input/crop-pest-and-disease-detection/...          Maize   \n",
            "11193  /kaggle/input/crop-pest-and-disease-detection/...         Cashew   \n",
            "\n",
            "                disease category  \n",
            "2515   Tomato septoria leaf spot  \n",
            "3390          Cassava brown spot  \n",
            "18514        Maize fall armyworm  \n",
            "17669          Maize leaf beetle  \n",
            "12117          Cashew leaf miner  \n",
            "11720          Cashew leaf miner  \n",
            "14699   Cassava bacterial blight  \n",
            "18504        Maize fall armyworm  \n",
            "17557          Maize leaf beetle  \n",
            "11193          Cashew leaf miner  \n"
          ]
        }
      ],
      "source": [
        "# create a Pandas dataframe using the lists\n",
        "data = { \"filename\": filenames, \"plant category\": plant_category, \"disease category\": disease_category }\n",
        "df = pd.DataFrame(data)\n",
        "df = df.sample(frac=1)  # shuffle the dataframe\n",
        "\n",
        "print(df.head(10))"
      ]
    },
    {
      "cell_type": "code",
      "execution_count": null,
      "metadata": {
        "colab": {
          "background_save": true
        },
        "id": "fkgsyrmSFnxM",
        "outputId": "562d52fe-714a-40da-e8af-a0f44140c09d"
      },
      "outputs": [
        {
          "name": "stdout",
          "output_type": "stream",
          "text": [
            "Length of DF: 25124\n"
          ]
        }
      ],
      "source": [
        "# remove invalid images from the dataframe\n",
        "df = clean_image_dataframe(df)\n",
        "print(f\"Length of DF: {len(df['filename'])}\")"
      ]
    },
    {
      "cell_type": "code",
      "execution_count": null,
      "metadata": {
        "colab": {
          "background_save": true
        },
        "id": "CpuN7r-lJszw",
        "outputId": "f3d2332d-9b64-4cd6-9c9a-d9779fde3ecb"
      },
      "outputs": [
        {
          "name": "stdout",
          "output_type": "stream",
          "text": [
            "plant category\n",
            "Cashew     6549\n",
            "Cassava    7508\n",
            "Maize      5288\n",
            "Tomato     5779\n",
            "dtype: int64\n"
          ]
        }
      ],
      "source": [
        "category_sizes = df.groupby(\"plant category\").size()\n",
        "print(category_sizes)"
      ]
    },
    {
      "cell_type": "code",
      "execution_count": null,
      "metadata": {
        "colab": {
          "background_save": true
        },
        "id": "Qlw6uLbTPjgq",
        "outputId": "cb5294fb-f1e7-4ccb-ae33-6ecea6666a7d"
      },
      "outputs": [
        {
          "data": {
            "image/png": "[encoded data removed]",
            "text/plain": [
              "<Figure size 1000x500 with 1 Axes>"
            ]
          },
          "metadata": {},
          "output_type": "display_data"
        }
      ],
      "source": [
        "categories = df['plant category'].sort_values().unique()\n",
        "\n",
        "fig = plt.figure(figsize = (10, 5))\n",
        "\n",
        "# creating the bar plot\n",
        "plt.bar(categories, category_sizes, color ='blue',\n",
        "        width = 0.4)\n",
        "\n",
        "plt.xlabel(\"Plant Categories\")\n",
        "plt.ylabel(\"No. of Images\")\n",
        "plt.title(\"Number of Images Per Plant Category\")\n",
        "plt.show()"
      ]
    },
    {
      "cell_type": "markdown",
      "metadata": {
        "id": "q3lcNapuRh_x"
      },
      "source": [
        "### Create a Balanced Training Dataset and Validation Dataset"
      ]
    },
    {
      "cell_type": "markdown",
      "metadata": {
        "id": "V0os-YFXRh_y"
      },
      "source": [
        "We have an unbalanced set of images. There are nearly 20% more Cassava images than Maize images. Let's use only 5000 images from each category to create the training and validation datasets.\n",
        "We can use the remaining images to create a test dataset for evaluating the model after training."
      ]
    },
    {
      "cell_type": "code",
      "execution_count": null,
      "metadata": {
        "colab": {
          "background_save": true
        },
        "id": "dChIyjxXQ_9K",
        "outputId": "c2981a82-cba7-4f17-c23a-0ba0c7e1fc3a"
      },
      "outputs": [
        {
          "name": "stdout",
          "output_type": "stream",
          "text": [
            "Size of Unbalanced Dataset: 25124\n",
            "Size of Balanced Dataset: 20000\n"
          ]
        }
      ],
      "source": [
        "# truncate the number of images in each category so each have an equal amount\n",
        "cashew_files = [df['filename'].values[index] for index, x in enumerate(df['plant category'].values) if 'Cashew' == x][0:MAX_IMAGES_PER_CATEGORY]\n",
        "cassava_files = [df['filename'].values[index] for index, x in enumerate(df['plant category'].values) if 'Cassava' == x][0:MAX_IMAGES_PER_CATEGORY]\n",
        "maize_files = [df['filename'].values[index] for index, x in enumerate(df['plant category'].values) if 'Maize' == x][0:MAX_IMAGES_PER_CATEGORY]\n",
        "tomato_files = [df['filename'].values[index] for index, x in enumerate(df['plant category'].values) if 'Tomato' == x][0:MAX_IMAGES_PER_CATEGORY]\n",
        "\n",
        "dataset = []\n",
        "\n",
        "def create_dataset(filenames, label):\n",
        "  for filename in filenames:\n",
        "    data_subset = []\n",
        "    data_subset.append(filename)\n",
        "    data_subset.append(encode_label(label))\n",
        "\n",
        "    dataset.append(data_subset)\n",
        "\n",
        "create_dataset(cashew_files, 'Cashew')\n",
        "create_dataset(cassava_files, 'Cassava')\n",
        "create_dataset(maize_files, 'Maize')\n",
        "create_dataset(tomato_files, 'Tomato')\n",
        "\n",
        "unbalanced_dataset_size = len(df['filename'].unique())\n",
        "balanced_dataset_size = len(dataset)\n",
        "loss = round((1 - (balanced_dataset_size / unbalanced_dataset_size)) * 100, 2)\n",
        "\n",
        "print(f\"Size of Unbalanced Dataset: {unbalanced_dataset_size}\")\n",
        "print(f\"Size of Balanced Dataset: {balanced_dataset_size}\")"
      ]
    },
    {
      "cell_type": "code",
      "execution_count": null,
      "metadata": {
        "colab": {
          "background_save": true
        },
        "id": "oasQlVqHW045",
        "outputId": "4260a699-9595-4f2f-9f67-9c77fc2e7799"
      },
      "outputs": [
        {
          "name": "stdout",
          "output_type": "stream",
          "text": [
            "                                            filename  label\n",
            "0  /kaggle/input/crop-pest-and-disease-detection/...      0\n",
            "1  /kaggle/input/crop-pest-and-disease-detection/...      0\n",
            "2  /kaggle/input/crop-pest-and-disease-detection/...      0\n",
            "3  /kaggle/input/crop-pest-and-disease-detection/...      0\n",
            "4  /kaggle/input/crop-pest-and-disease-detection/...      0\n"
          ]
        }
      ],
      "source": [
        "dataset_df = pd.DataFrame(dataset, columns=['filename', 'label'])\n",
        "print(dataset_df.head())"
      ]
    },
    {
      "cell_type": "code",
      "execution_count": null,
      "metadata": {
        "colab": {
          "background_save": true
        },
        "id": "RIPKmWBCY9en"
      },
      "outputs": [],
      "source": [
        "X = dataset_df['filename']\n",
        "y = dataset_df['label']\n",
        "\n",
        "X_train, X_test, y_train, y_test = train_test_split(X, y, test_size=0.25)"
      ]
    },
    {
      "cell_type": "code",
      "execution_count": null,
      "metadata": {
        "id": "U-kZ3b2OdwjH"
      },
      "outputs": [],
      "source": [
        "X_train = process_images(X_train)\n",
        "X_test = process_images(X_test)"
      ]
    },
    {
      "cell_type": "code",
      "execution_count": null,
      "metadata": {
        "id": "4yRC9G6LjArS"
      },
      "outputs": [],
      "source": [
        "X_train = tf.data.Dataset.from_tensor_slices(X_train)\n",
        "y_train = tf.data.Dataset.from_tensor_slices(y_train)\n",
        "\n",
        "X_test = tf.data.Dataset.from_tensor_slices(X_test)\n",
        "y_test = tf.data.Dataset.from_tensor_slices(y_test)\n",
        "\n",
        "train_ds = tf.data.Dataset.zip((X_train, y_train))\n",
        "validation_ds = tf.data.Dataset.zip((X_test, y_test))"
      ]
    },
    {
      "cell_type": "code",
      "execution_count": null,
      "metadata": {
        "id": "G6fd2wIhLks2"
      },
      "outputs": [],
      "source": [
        "train_ds = train_ds.cache().shuffle(buffer_size=1024).prefetch(buffer_size=tf.data.AUTOTUNE).batch(BATCH_SIZE)\n",
        "validation_ds = validation_ds.batch(BATCH_SIZE)"
      ]
    },
    {
      "cell_type": "markdown",
      "metadata": {
        "id": "jOlW7ay-Rh_1"
      },
      "source": [
        "### Visualize a Subset of the Training Dataset"
      ]
    },
    {
      "cell_type": "code",
      "execution_count": null,
      "metadata": {
        "id": "DFYwllGXITzh"
      },
      "outputs": [],
      "source": [
        "plt.figure(figsize=(12,9))\n",
        "for image, label in train_ds.take(1):\n",
        "  for i in range(9):\n",
        "    ax = plt.subplot(3, 3, i + 1)\n",
        "    plt.imshow(image[i].numpy().astype(\"uint8\"))\n",
        "    plt.title(CLASS_NAMES[label[i]])\n",
        "    plt.axis(\"off\")"
      ]
    },
    {
      "cell_type": "markdown",
      "metadata": {
        "id": "wOZ-mfz9Rh_2"
      },
      "source": [
        "#### Generate a Test Dataset from Remaining Images After Truncation"
      ]
    },
    {
      "cell_type": "code",
      "execution_count": null,
      "metadata": {
        "id": "5t_vxNqSV4ZW"
      },
      "outputs": [],
      "source": [
        "# Take the remaining images and create a test set that won't be seen during training\n",
        "STARTING_POINT = MAX_IMAGES_PER_CATEGORY + 1\n",
        "cashew_files = [df['filename'].values[index] for index, x in enumerate(df['plant category'].values) if 'Cashew' == x][STARTING_POINT:]\n",
        "cassava_files = [df['filename'].values[index] for index, x in enumerate(df['plant category'].values) if 'Cassava' == x][STARTING_POINT:]\n",
        "maize_files = [df['filename'].values[index] for index, x in enumerate(df['plant category'].values) if 'Maize' == x][STARTING_POINT:]\n",
        "tomato_files = [df['filename'].values[index] for index, x in enumerate(df['plant category'].values) if 'Tomato' == x][STARTING_POINT:]\n",
        "\n",
        "test_dataset = []\n",
        "\n",
        "def create_test_dataset(filenames, label):\n",
        "  for filename in filenames:\n",
        "    data_subset = []\n",
        "    data_subset.append(filename)\n",
        "    data_subset.append(encode_label(label))\n",
        "\n",
        "    test_dataset.append(data_subset)\n",
        "\n",
        "create_test_dataset(cashew_files, 'Cashew')\n",
        "create_test_dataset(cassava_files, 'Cassava')\n",
        "create_test_dataset(maize_files, 'Maize')\n",
        "create_test_dataset(tomato_files, 'Tomato')\n",
        "\n",
        "test_dataset_size = len(test_dataset)\n",
        "print(f\"Size of Test Dataset: {test_dataset_size}\")\n",
        "\n",
        "test_dataset_df = pd.DataFrame(test_dataset, columns=['filename', 'label'])\n",
        "print(test_dataset_df.head())\n",
        "\n",
        "test_images = process_images(test_dataset_df['filename'])\n",
        "test_labels = test_dataset_df['label']\n",
        "\n",
        "test_ds = tf.data.Dataset.from_tensor_slices((test_images, test_labels))\n",
        "test_ds = test_ds.batch(BATCH_SIZE)"
      ]
    },
    {
      "cell_type": "code",
      "execution_count": null,
      "metadata": {
        "id": "z50Y5ndrRh_3"
      },
      "outputs": [],
      "source": [
        "base_model = tf.keras.applications.VGG16(\n",
        "    include_top = False,\n",
        "    input_shape=INPUT_SHAPE,\n",
        "    weights=\"imagenet\"\n",
        ")\n",
        "base_model.trainable = False\n",
        "\n",
        "base_model.summary()"
      ]
    },
    {
      "cell_type": "code",
      "execution_count": null,
      "metadata": {
        "id": "BXtpQW0mOLWB"
      },
      "outputs": [],
      "source": [
        "model = tf.keras.models.Sequential([\n",
        "    tf.keras.layers.RandomFlip(\"horizontal\"),\n",
        "    tf.keras.layers.RandomRotation(0.2),\n",
        "    base_model,\n",
        "    tf.keras.layers.GlobalAveragePooling2D(),\n",
        "    tf.keras.layers.Flatten(),\n",
        "    tf.keras.layers.Dropout(0.2),\n",
        "    tf.keras.layers.Dense(4)\n",
        "])"
      ]
    },
    {
      "cell_type": "code",
      "execution_count": null,
      "metadata": {
        "id": "HRGesYq8Owlw"
      },
      "outputs": [],
      "source": [
        "model.compile(optimizer=tf.keras.optimizers.Adam(learning_rate=LEARNING_RATE), loss=tf.keras.losses.SparseCategoricalCrossentropy(from_logits=True), metrics=[\"accuracy\"])"
      ]
    },
    {
      "cell_type": "code",
      "execution_count": null,
      "metadata": {
        "id": "Ledhqwx8O1-I"
      },
      "outputs": [],
      "source": [
        "history = model.fit(train_ds, epochs=EPOCHS, validation_data=validation_ds)"
      ]
    },
    {
      "cell_type": "markdown",
      "metadata": {
        "id": "X6AoMKQsRh_5"
      },
      "source": [
        "### **Classification Report**"
      ]
    },
    {
      "cell_type": "code",
      "execution_count": null,
      "metadata": {
        "id": "H-K7We5fRh_6"
      },
      "outputs": [],
      "source": [
        "print(model.evaluate(test_ds, return_dict=True))"
      ]
    },
    {
      "cell_type": "code",
      "execution_count": null,
      "metadata": {
        "id": "-3LVnLsVRh_6"
      },
      "outputs": [],
      "source": [
        "metrics = history.history\n",
        "plt.figure(figsize=(16, 6))\n",
        "plt.subplot(1, 2, 1)\n",
        "plt.plot(history.epoch, metrics['loss'], metrics['val_loss'])\n",
        "plt.legend(['training', 'validation'])\n",
        "plt.ylim([0, max(plt.ylim())])\n",
        "plt.ylabel('Loss')\n",
        "plt.xlabel('Epoch')\n",
        "\n",
        "plt.subplot(1, 2, 2)\n",
        "plt.plot(history.epoch, metrics['accuracy'], metrics['val_accuracy'])\n",
        "plt.legend(['training', 'validation'])\n",
        "plt.ylim([0, 1])\n",
        "plt.ylabel('Accuracy')\n",
        "plt.xlabel('Epoch')"
      ]
    },
    {
      "cell_type": "code",
      "execution_count": null,
      "metadata": {
        "id": "uYtZRggFRh_7"
      },
      "outputs": [],
      "source": [
        "y_pred = model.predict(test_ds)\n",
        "y_pred = np.argmax(y_pred, axis=1)\n",
        "y_true = np.concatenate([y for x, y in test_ds], axis=0)"
      ]
    },
    {
      "cell_type": "code",
      "execution_count": null,
      "metadata": {
        "id": "h0VvM177Rh_8"
      },
      "outputs": [],
      "source": [
        "confusion_mtx = tf.math.confusion_matrix(y_true, y_pred)\n",
        "plt.figure(figsize=(10, 8))\n",
        "sns.heatmap(confusion_mtx,\n",
        "            xticklabels=CLASS_NAMES,\n",
        "            yticklabels=CLASS_NAMES,\n",
        "            annot=True, fmt='g')\n",
        "plt.xlabel('Prediction')\n",
        "plt.ylabel('Label')\n",
        "plt.show()"
      ]
    },
    {
      "cell_type": "code",
      "execution_count": null,
      "metadata": {
        "id": "Gg1t0irfRh_9"
      },
      "outputs": [],
      "source": [
        "print(y_pred)"
      ]
    },
    {
      "cell_type": "code",
      "execution_count": null,
      "metadata": {
        "id": "P-RtAOLMRh_9"
      },
      "outputs": [],
      "source": [
        "plt.figure(figsize=(12,9))\n",
        "for image, label in test_ds.take(1):\n",
        "  for i in range(9):\n",
        "    ax = plt.subplot(3, 3, i + 1)\n",
        "    plt.imshow(image[i].numpy().astype(\"uint8\"))\n",
        "    plt.title(f\"Predicted: {CLASS_NAMES[y_pred[i]]} - True: {CLASS_NAMES[y_true[i]]}\")\n",
        "    plt.axis(\"off\")"
      ]
    }
  ],
  "metadata": {
    "accelerator": "GPU",
    "colab": {
      "gpuType": "T4",
      "provenance": []
    },
    "kaggle": {
      "accelerator": "gpu",
      "dataSources": [
        {
          "datasetId": 4280832,
          "sourceId": 7368427,
          "sourceType": "datasetVersion"
        }
      ],
      "dockerImageVersionId": 30636,
      "isGpuEnabled": true,
      "isInternetEnabled": true,
      "language": "python",
      "sourceType": "notebook"
    },
    "kernelspec": {
      "display_name": "Python 3",
      "name": "python3"
    },
    "language_info": {
      "codemirror_mode": {
        "name": "ipython",
        "version": 3
      },
      "file_extension": ".py",
      "mimetype": "text/x-python",
      "name": "python",
      "nbconvert_exporter": "python",
      "pygments_lexer": "ipython3",
      "version": "3.10.12"
    }
  },
  "nbformat": 4,
  "nbformat_minor": 0
}
